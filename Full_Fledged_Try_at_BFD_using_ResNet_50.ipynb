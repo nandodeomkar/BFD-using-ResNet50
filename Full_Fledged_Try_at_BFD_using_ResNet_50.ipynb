{
  "cells": [
    {
      "cell_type": "markdown",
      "metadata": {
        "id": "view-in-github",
        "colab_type": "text"
      },
      "source": [
        "<a href=\"https://colab.research.google.com/github/nandodeomkar/BFD-using-ResNet50/blob/main/Full_Fledged_Try_at_BFD_using_ResNet_50.ipynb\" target=\"_parent\"><img src=\"https://colab.research.google.com/assets/colab-badge.svg\" alt=\"Open In Colab\"/></a>"
      ]
    },
    {
      "cell_type": "code",
      "execution_count": null,
      "metadata": {
        "id": "P03zeWzw2v6L"
      },
      "outputs": [],
      "source": [
        "!pip install tensorflow\n",
        "!pip install keras\n",
        "!pip install opencv-python\n",
        "!pip install numpy\n",
        "!pip install matplotlib\n",
        "!pip install scikit-learn"
      ]
    },
    {
      "cell_type": "code",
      "execution_count": null,
      "metadata": {
        "id": "J26WiTLosUR2"
      },
      "outputs": [],
      "source": [
        "import cv2\n",
        "import os\n",
        "\n",
        "# Set the path to the directory containing the images\n",
        "dir_path = '/content/drive/MyDrive/Dataset/training'\n",
        "\n",
        "# Set the desired size for the images\n",
        "img_size = (224, 224)\n",
        "\n",
        "# Loop through the files in the directory\n",
        "for filename in os.listdir(dir_path):\n",
        "    # Check if the file is an image\n",
        "    if filename.endswith('.jpg') or filename.endswith('.png'):\n",
        "        # Load the image\n",
        "        img = cv2.imread(os.path.join(dir_path, filename))\n",
        "\n",
        "        # Resize the image to the desired size\n",
        "        resized_img = cv2.resize(img, img_size)\n",
        "\n",
        "        # Save the resized image with the same filename and extension\n",
        "        cv2.imwrite(os.path.join(dir_path, filename), resized_img)\n"
      ]
    },
    {
      "cell_type": "code",
      "execution_count": null,
      "metadata": {
        "id": "96qmKdjOtxKq",
        "colab": {
          "base_uri": "https://localhost:8080/"
        },
        "outputId": "6bf7b533-0dd6-4bfb-c6ab-c855e7d82b2c"
      },
      "outputs": [
        {
          "output_type": "stream",
          "name": "stdout",
          "text": [
            "Downloading data from https://storage.googleapis.com/tensorflow/keras-applications/resnet/resnet50_weights_tf_dim_ordering_tf_kernels_notop.h5\n",
            "94765736/94765736 [==============================] - 3s 0us/step\n"
          ]
        },
        {
          "output_type": "stream",
          "name": "stderr",
          "text": [
            "WARNING:absl:`lr` is deprecated in Keras optimizer, please use `learning_rate` or use the legacy optimizer, e.g.,tf.keras.optimizers.legacy.Adam.\n"
          ]
        },
        {
          "output_type": "stream",
          "name": "stdout",
          "text": [
            "Found 8873 images belonging to 2 classes.\n",
            "Epoch 1/10\n",
            " 71/278 [======>.......................] - ETA: 34:21 - loss: 0.7104 - accuracy: 0.5031"
          ]
        }
      ],
      "source": [
        "import os\n",
        "import numpy as np\n",
        "from tensorflow.keras.preprocessing.image import ImageDataGenerator\n",
        "from tensorflow.keras.models import Model\n",
        "from tensorflow.keras.layers import Dense, GlobalAveragePooling2D\n",
        "from tensorflow.keras.optimizers import Adam\n",
        "from tensorflow.keras.applications.resnet50 import ResNet50\n",
        "\n",
        "# Set the path to the directory containing the training images\n",
        "train_dir = '/content/drive/MyDrive/training'\n",
        "\n",
        "# Set the batch size for training\n",
        "batch_size = 32\n",
        "\n",
        "# Create an ImageDataGenerator for data augmentation and preprocessing\n",
        "train_datagen = ImageDataGenerator(rotation_range=20, width_shift_range=0.1, height_shift_range=0.1, shear_range=0.2, zoom_range=0.2, horizontal_flip=True, fill_mode='nearest', preprocessing_function=lambda x: x/255.0)\n",
        "\n",
        "# Load the ResNet50 model without the top layer\n",
        "base_model = ResNet50(weights='imagenet', include_top=False, input_shape=(img_size[0], img_size[1], 3))\n",
        "\n",
        "# Add a global average pooling layer and a dense output layer for binary classification\n",
        "x = base_model.output\n",
        "x = GlobalAveragePooling2D()(x)\n",
        "x = Dense(1, activation='sigmoid')(x)\n",
        "\n",
        "# Create the modified model\n",
        "model = Model(inputs=base_model.input, outputs=x)\n",
        "\n",
        "# Freeze the weights of the base ResNet50 model\n",
        "for layer in base_model.layers:\n",
        "    layer.trainable = False\n",
        "\n",
        "# Compile the model with binary cross-entropy loss and Adam optimizer\n",
        "model.compile(loss='binary_crossentropy', optimizer=Adam(lr=0.001), metrics=['accuracy'])\n",
        "\n",
        "# Create a generator for the training data\n",
        "train_generator = train_datagen.flow_from_directory(train_dir, target_size=img_size, batch_size=batch_size, class_mode='binary')\n",
        "\n",
        "# Train the model for a few epochs\n",
        "model.fit(train_generator, epochs=10)\n",
        "\n",
        "# Save the trained model to Google Drive\n",
        "model.save('/content/drive/My Drive/bone_fracture_detection.h5')\n"
      ]
    },
    {
      "cell_type": "code",
      "source": [
        "import numpy as np\n",
        "from tensorflow.keras.preprocessing.image import load_img, img_to_array\n",
        "from tensorflow.keras.models import load_model\n",
        "from tensorflow.keras.applications.resnet50 import preprocess_input\n",
        "\n",
        "# Set the path to the trained model file\n",
        "model_file = '/content/drive/My Drive/bone_fracture_detection.h5'\n",
        "\n",
        "# Load the trained model\n",
        "model = load_model(model_file)\n",
        "\n",
        "# Set the path to the input image\n",
        "input_image = '/content/drive/MyDrive/Dataset/testing/fractured/image.jpg'\n",
        "\n",
        "# Set the desired size for the image\n",
        "img_size = (224, 224)\n",
        "\n",
        "# Load the image and preprocess it\n",
        "img = load_img(input_image, target_size=img_size)\n",
        "x = img_to_array(img)\n",
        "x = np.expand_dims(x, axis=0)\n",
        "x = preprocess_input(x)\n",
        "\n",
        "# Use the model to predict the class label\n",
        "pred = model.predict(x)[0]\n",
        "if pred < 0.5:\n",
        "    label = 'Not Fractured'\n",
        "else:\n",
        "    label = 'Fractured'\n",
        "\n",
        "# Print the predicted label and the image filename\n",
        "print('{} - {}'.format(input_image, label))\n"
      ],
      "metadata": {
        "id": "67kA6911Tlsg"
      },
      "execution_count": null,
      "outputs": []
    }
  ],
  "metadata": {
    "colab": {
      "provenance": [],
      "gpuType": "T4",
      "mount_file_id": "176ihp5DuWKGNyWNCkUK3PuVN_pYUCRw6",
      "authorship_tag": "ABX9TyPbG/7DP4R+rY9JqzkCQ6bj",
      "include_colab_link": true
    },
    "gpuClass": "standard",
    "kernelspec": {
      "display_name": "Python 3",
      "name": "python3"
    },
    "language_info": {
      "name": "python"
    }
  },
  "nbformat": 4,
  "nbformat_minor": 0
}